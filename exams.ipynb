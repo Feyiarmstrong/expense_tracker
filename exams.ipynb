{
 "cells": [
  {
   "cell_type": "code",
   "execution_count": 1,
   "id": "ab9f22d8-cb98-432c-929a-7108dd1e6dc3",
   "metadata": {},
   "outputs": [
    {
     "name": "stderr",
     "output_type": "stream",
     "text": [
      "C:\\Users\\user\\AppData\\Local\\Temp\\ipykernel_10388\\1371887867.py:9: DeprecationWarning: datetime.datetime.utcnow() is deprecated and scheduled for removal in a future version. Use timezone-aware objects to represent datetimes in UTC: datetime.datetime.now(datetime.UTC).\n",
      "  self.created_at = datetime.utcnow()  # Creation timestamp (UTC)\n"
     ]
    },
    {
     "name": "stdout",
     "output_type": "stream",
     "text": [
      "{'id': '328ee11b-5554-4493-80d7-a49bae6e1297', 'title': 'Groceries', 'amount': 50.75, 'created_at': '2025-02-20T15:38:30.066103', 'updated_at': '2025-02-20T15:38:30.066103'}\n",
      "{'id': 'e9af7aa7-a2b0-48f2-bd2f-4197f3628a44', 'title': 'Rent', 'amount': 1200.0, 'created_at': '2025-02-20T15:38:30.066103', 'updated_at': '2025-02-20T15:38:30.066103'}\n",
      "{'id': '328ee11b-5554-4493-80d7-a49bae6e1297', 'title': 'Groceries', 'amount': 55.0, 'created_at': '2025-02-20T15:38:30.066103', 'updated_at': '2025-02-20T15:38:30.272938'}\n",
      "[{'id': '328ee11b-5554-4493-80d7-a49bae6e1297', 'title': 'Groceries', 'amount': 55.0, 'created_at': '2025-02-20T15:38:30.066103', 'updated_at': '2025-02-20T15:38:30.272938'}]\n"
     ]
    },
    {
     "name": "stderr",
     "output_type": "stream",
     "text": [
      "C:\\Users\\user\\AppData\\Local\\Temp\\ipykernel_10388\\1371887867.py:17: DeprecationWarning: datetime.datetime.utcnow() is deprecated and scheduled for removal in a future version. Use timezone-aware objects to represent datetimes in UTC: datetime.datetime.now(datetime.UTC).\n",
      "  self.updated_at = datetime.utcnow()  # Update timestamp (UTC)\n"
     ]
    }
   ],
   "source": [
    "import uuid\n",
    "from datetime import datetime, timezone\n",
    "\n",
    "class Expense:\n",
    "    def __init__(self, title, amount):\n",
    "        self.id = str(uuid.uuid4())  # Unique identifier generated as UUID string\n",
    "        self.title = title  # Title of the expense\n",
    "        self.amount = amount  # Amount of the expense\n",
    "        self.created_at = datetime.utcnow()  # Creation timestamp (UTC)\n",
    "        self.updated_at = self.created_at  # Initially set to created_at timestamp\n",
    "\n",
    "    def update(self, title=None, amount=None):\n",
    "        if title:\n",
    "            self.title = title\n",
    "        if amount:\n",
    "            self.amount = amount\n",
    "        self.updated_at = datetime.utcnow()  # Update timestamp (UTC)\n",
    "\n",
    "    def to_dict(self):\n",
    "        # Return a dictionary representation of the expense\n",
    "        return {\n",
    "            \"id\": self.id,\n",
    "            \"title\": self.title,\n",
    "            \"amount\": self.amount,\n",
    "            \"created_at\": self.created_at.isoformat(),\n",
    "            \"updated_at\": self.updated_at.isoformat(),\n",
    "        }\n",
    "\n",
    "class ExpenseDB:\n",
    "    def __init__(self):\n",
    "        self.expenses = []  # List to store Expense instances\n",
    "\n",
    "    def add_expense(self, expense):\n",
    "        self.expenses.append(expense)\n",
    "\n",
    "    def remove_expense(self, expense_id):\n",
    "        self.expenses = [expense for expense in self.expenses if expense.id != expense_id]\n",
    "\n",
    "    def get_expense_by_id(self, expense_id):\n",
    "        for expense in self.expenses:\n",
    "            if expense.id == expense_id:\n",
    "                return expense\n",
    "        return None\n",
    "\n",
    "    def get_expense_by_title(self, title):\n",
    "        return [expense for expense in self.expenses if expense.title.lower() == title.lower()]\n",
    "\n",
    "    def to_dict(self):\n",
    "        # Return a list of dictionaries representing each expense in the database\n",
    "        return [expense.to_dict() for expense in self.expenses]\n",
    "\n",
    "# Example Usage\n",
    "# Create Expense objects\n",
    "expense1 = Expense(title=\"Groceries\", amount=50.75)\n",
    "expense2 = Expense(title=\"Rent\", amount=1200.00)\n",
    "\n",
    "# Create ExpenseDB object\n",
    "expense_db = ExpenseDB()\n",
    "\n",
    "# Add expenses to database\n",
    "expense_db.add_expense(expense1)\n",
    "expense_db.add_expense(expense2)\n",
    "\n",
    "# Get expense by ID\n",
    "expense_by_id = expense_db.get_expense_by_id(expense1.id)\n",
    "print(expense_by_id.to_dict())\n",
    "\n",
    "# Get expenses by title\n",
    "expenses_by_title = expense_db.get_expense_by_title(\"Rent\")\n",
    "for expense in expenses_by_title:\n",
    "    print(expense.to_dict())\n",
    "\n",
    "# Update an expense\n",
    "expense1.update(amount=55.00)\n",
    "print(expense1.to_dict())\n",
    "\n",
    "# Remove an expense by ID\n",
    "expense_db.remove_expense(expense2.id)\n",
    "print(expense_db.to_dict())"
   ]
  },
  {
   "cell_type": "code",
   "execution_count": null,
   "id": "af245aeb-6eb3-431a-941d-43417b43f5ab",
   "metadata": {},
   "outputs": [],
   "source": []
  }
 ],
 "metadata": {
  "kernelspec": {
   "display_name": "Python 3 (ipykernel)",
   "language": "python",
   "name": "python3"
  },
  "language_info": {
   "codemirror_mode": {
    "name": "ipython",
    "version": 3
   },
   "file_extension": ".py",
   "mimetype": "text/x-python",
   "name": "python",
   "nbconvert_exporter": "python",
   "pygments_lexer": "ipython3",
   "version": "3.12.7"
  }
 },
 "nbformat": 4,
 "nbformat_minor": 5
}
